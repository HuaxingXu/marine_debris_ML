{
 "cells": [
  {
   "cell_type": "code",
   "execution_count": 1,
   "metadata": {},
   "outputs": [],
   "source": [
    "import geojson\n",
    "from glob import glob\n",
    "import json\n",
    "import os, sys, fnmatch\n",
    "from os import makedirs, path as op\n",
    "import shutil\n",
    "from PIL import Image\n",
    "import numpy as np"
   ]
  },
  {
   "cell_type": "code",
   "execution_count": 2,
   "metadata": {},
   "outputs": [],
   "source": [
    "def find(pattern, path):\n",
    "    result = []\n",
    "    for root, dirs, files in os.walk(path):\n",
    "        for name in files:\n",
    "            if fnmatch.fnmatch(name, pattern):\n",
    "                result.append(os.path.join(root, name))\n",
    "    return result"
   ]
  },
  {
   "cell_type": "code",
   "execution_count": 4,
   "metadata": {},
   "outputs": [],
   "source": [
    "def get_bounding_box(geoj):\n",
    "    with open(geoj) as f:\n",
    "        xcoords = []\n",
    "        ycoords = []\n",
    "        data = json.load(f)\n",
    "        for feature in data['features']:\n",
    "            geom = feature['geometry']\n",
    "            for coord in geom['coordinates']:\n",
    "                if type(coord) == float:  # then its a point feature\n",
    "                    xcoords.append(geom['coordinates'][0])\n",
    "                    ycoords.append(geom['coordinates'][1])\n",
    "                elif type(coord) == list:\n",
    "                    for c in coord:\n",
    "                        if type(c) == float:  # then its a linestring feature\n",
    "                            xcoords.append(coord[0])\n",
    "                            ycoords.append(coord[1])\n",
    "                        elif type(c) == list:  # then its a polygon feature\n",
    "                            xcoords.append(c[0])\n",
    "                            ycoords.append(c[1])\n",
    "            coords = np.array(list(geojson.utils.coords(geom)))\n",
    "    return [min(xcoords), min(ycoords), max(xcoords), max(ycoords)]"
   ]
  },
  {
   "cell_type": "code",
   "execution_count": 3,
   "metadata": {},
   "outputs": [],
   "source": [
    "geo_dir = ''"
   ]
  },
  {
   "cell_type": "code",
   "execution_count": 5,
   "metadata": {},
   "outputs": [],
   "source": [
    "root_dir = ''"
   ]
  },
  {
   "cell_type": "code",
   "execution_count": 8,
   "metadata": {},
   "outputs": [],
   "source": [
    "imagery_dir = ''"
   ]
  },
  {
   "cell_type": "code",
   "execution_count": null,
   "metadata": {},
   "outputs": [],
   "source": [
    "tif_tiles = glob(f'{imagery_dir}/**/*.tif',recursive=True)\n",
    "\n",
    "for tif in tif_tiles:\n",
    "    filename_split = os.path.splitext(tif) \n",
    "    filename_zero, fileext = filename_split \n",
    "    basename = os.path.basename(filename_zero) \n",
    "    basename_cp = basename\n",
    "    basename = basename[15:]\n",
    "    basename =basename.replace('_3B_AnalyticMS','')\n",
    "    basename = basename[0:8]+'_'+basename[9:]\n",
    "    \n",
    "    try:\n",
    "        geoj = f'{geo_dir}/{basename}.geojson'             \n",
    "\n",
    "        bbox = get_bounding_box(geoj)\n",
    "\n",
    "        config = f'{root_dir}/config.json'\n",
    "\n",
    "        with open(config, 'r') as con_j:\n",
    "            config_json = json.load(con_j)\n",
    "\n",
    "        s = basename[-7:]  \n",
    "        print(s)             \n",
    "        st = find(f'*{s}*', imagery_dir)\n",
    "        print(st)\n",
    "        config_json['bounding_box'] = bbox\n",
    "        config_json['geojson'] = geoj\n",
    "        config_json['imagery'] = f'{imagery_dir}/{basename_cp}.tif'\n",
    "        print(config_json)  \n",
    "\n",
    "        #makedirs(f'{root_dir}/configs/')             \n",
    "        makedirs(f'{root_dir}/configs/{basename}')             \n",
    "        config_out = f'{root_dir}/configs/{basename}/config.json'\n",
    "\n",
    "        with open(config_out, 'w') as con_n_j:\n",
    "            json.dump(config_json, con_n_j)\n",
    "            print(config_json)\n",
    "\n",
    "        os.chdir(f'{root_dir}/configs/')           \n",
    "        cmd = \"./batch_lblmkr.sh\"           \n",
    "        os.system(cmd) \n",
    "        os.chdir(f'{root_dir}')  \n",
    "        makedirs(f'data_working_nir/{basename}')\n",
    "        shutil.move(f'configs/{basename}/data/labels.npz', f'data_all/{basename}')\n",
    "        shutil.move(f'configs/{basename}/data/tiles', f'data_all/{basename}/tiles')\n",
    "        tifs = glob(f'data_all/{basename}/tiles'+'/**/*.tif',recursive=True)\n",
    "        for i in tifs:\n",
    "            im = Image.open(i)\n",
    "            im.save(i[:-4]+'.jpg', \"JPEG\")\n",
    "        for f in tifs:\n",
    "            os.remove(f)\n",
    "                 \n",
    "    except:\n",
    "        print(f\"no geo for{basename}\")"
   ]
  }
 ],
 "metadata": {
  "kernelspec": {
   "display_name": "pybayts",
   "language": "python",
   "name": "pybayts"
  },
  "language_info": {
   "codemirror_mode": {
    "name": "ipython",
    "version": 3
   },
   "file_extension": ".py",
   "mimetype": "text/x-python",
   "name": "python",
   "nbconvert_exporter": "python",
   "pygments_lexer": "ipython3",
   "version": "3.6.8"
  }
 },
 "nbformat": 4,
 "nbformat_minor": 4
}
