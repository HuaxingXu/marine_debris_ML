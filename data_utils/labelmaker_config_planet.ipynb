{
 "cells": [
  {
   "cell_type": "code",
   "execution_count": 1,
   "metadata": {},
   "outputs": [],
   "source": [
    "import geojson\n",
    "from glob import glob\n",
    "import json\n",
    "import os, sys, fnmatch\n",
    "from os import makedirs, path as op\n",
    "import shutil\n",
    "from PIL import Image\n",
    "import numpy as np"
   ]
  },
  {
   "cell_type": "code",
   "execution_count": 2,
   "metadata": {},
   "outputs": [],
   "source": [
    "def find(pattern, path):\n",
    "    result = []\n",
    "    for root, dirs, files in os.walk(path):\n",
    "        for name in files:\n",
    "            if fnmatch.fnmatch(name, pattern):\n",
    "                result.append(os.path.join(root, name))\n",
    "    return result"
   ]
  },
  {
   "cell_type": "code",
   "execution_count": 4,
   "metadata": {},
   "outputs": [],
   "source": [
    "def get_bounding_box(geoj):\n",
    "    with open(geoj) as f:\n",
    "        xcoords = []\n",
    "        ycoords = []\n",
    "        data = json.load(f)\n",
    "        for feature in data['features']:\n",
    "            geom = feature['geometry']\n",
    "            for coord in geom['coordinates']:\n",
    "                if type(coord) == float:  # then its a point feature\n",
    "                    xcoords.append(geom['coordinates'][0])\n",
    "                    ycoords.append(geom['coordinates'][1])\n",
    "                elif type(coord) == list:\n",
    "                    for c in coord:\n",
    "                        if type(c) == float:  # then its a linestring feature\n",
    "                            xcoords.append(coord[0])\n",
    "                            ycoords.append(coord[1])\n",
    "                        elif type(c) == list:  # then its a polygon feature\n",
    "                            xcoords.append(c[0])\n",
    "                            ycoords.append(c[1])\n",
    "            coords = np.array(list(geojson.utils.coords(geom)))\n",
    "    return [min(xcoords), min(ycoords), max(xcoords), max(ycoords)]"
   ]
  },
  {
   "cell_type": "code",
   "execution_count": 5,
   "metadata": {},
   "outputs": [],
   "source": [
    "root_dir = ''"
   ]
  },
  {
   "cell_type": "code",
   "execution_count": null,
   "metadata": {},
   "outputs": [],
   "source": [
    "order_id = ''"
   ]
  },
  {
   "cell_type": "code",
   "execution_count": 24,
   "metadata": {},
   "outputs": [],
   "source": [
    "imagery_dir = f'{root_dir}/imagery/data/{order_id}/PSScene3Band'"
   ]
  },
  {
   "cell_type": "code",
   "execution_count": 25,
   "metadata": {},
   "outputs": [],
   "source": [
    "scene_ids = []"
   ]
  },
  {
   "cell_type": "code",
   "execution_count": null,
   "metadata": {},
   "outputs": [],
   "source": [
    "geo_dir = f'{root_dir}/geojsons'"
   ]
  },
  {
   "cell_type": "code",
   "execution_count": 37,
   "metadata": {},
   "outputs": [],
   "source": [
    "config = f'{root_dir}/config.json'"
   ]
  },
  {
   "cell_type": "code",
   "execution_count": 38,
   "metadata": {},
   "outputs": [],
   "source": [
    "def make_config_labelmaker(config, scene):\n",
    "    geoj = f'{geo_dir}/{scene}.geojson'\n",
    "    bbox = get_bounding_box(geoj)\n",
    "    with open(config, 'r') as con_j:\n",
    "        config_json = json.load(con_j)\n",
    "        config_json['bounding_box'] = bbox\n",
    "        config_json['geojson'] = geoj\n",
    "        config_json['imagery'] = f'{imagery_dir}/{scene}_3B_Visual.tif'\n",
    "    if not os.path.isdir(f'{root_dir}/configs/{scene}'):\n",
    "        os.makedirs(f'{root_dir}/configs/{scene}')\n",
    "    config_scene = f'{root_dir}/configs/{scene}/config.json'\n",
    "    with open(config_scene, 'w') as con_n_j:\n",
    "        json.dump(config_json, con_n_j)\n",
    "        print(config_json)\n",
    "    print(f\"Processed {scene}\")"
   ]
  },
  {
   "cell_type": "code",
   "execution_count": null,
   "metadata": {},
   "outputs": [],
   "source": [
    "for scene in scene_ids:\n",
    "    make_config_labelmaker(config, scene)"
   ]
  },
  {
   "cell_type": "code",
   "execution_count": 42,
   "metadata": {},
   "outputs": [],
   "source": [
    "# run ./batch_lblmkr.sh from root_dir"
   ]
  },
  {
   "cell_type": "code",
   "execution_count": 35,
   "metadata": {},
   "outputs": [],
   "source": [
    "def tif2jpg(scene):\n",
    "    os.chdir(f'{root_dir}/configs/{scene}')\n",
    "    tifs = glob(f'data/tiles'+'/**/*.tif',recursive=True)\n",
    "    for i in tifs:\n",
    "        im = Image.open(i)\n",
    "        im.save(i[:-4]+'.jpg', \"JPEG\")\n",
    "    for f in tifs:\n",
    "        os.remove(f)                \n",
    "    os.chdir(f'{root_dir}')\n",
    "    print(f\"Processed {scene}\")"
   ]
  },
  {
   "cell_type": "code",
   "execution_count": null,
   "metadata": {},
   "outputs": [],
   "source": [
    "for scene in scene_ids:\n",
    "    tif2jpg(scene)"
   ]
  },
  {
   "cell_type": "code",
   "execution_count": null,
   "metadata": {},
   "outputs": [],
   "source": []
  }
 ],
 "metadata": {
  "kernelspec": {
   "display_name": "pybayts",
   "language": "python",
   "name": "pybayts"
  },
  "language_info": {
   "codemirror_mode": {
    "name": "ipython",
    "version": 3
   },
   "file_extension": ".py",
   "mimetype": "text/x-python",
   "name": "python",
   "nbconvert_exporter": "python",
   "pygments_lexer": "ipython3",
   "version": "3.6.8"
  }
 },
 "nbformat": 4,
 "nbformat_minor": 4
}
