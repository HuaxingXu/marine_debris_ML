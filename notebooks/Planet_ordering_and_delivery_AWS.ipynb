{
 "cells": [
  {
   "cell_type": "markdown",
   "metadata": {},
   "source": [
    "# Ordering and Delivery\n",
    "\n",
    "This notebook demonstrates ordering and download with the orders api. In this notebook, we check authentication by requesting an orders list, then we create an order for a list of visual `PSScene3Band` images. We request the order be delivered as a single zip file to an AWS s3 storage bucket.\n",
    "\n",
    "Reference information can be found at [Ordering & Delivery](https://developers.planet.com/docs/orders/ordering-delivery/)."
   ]
  },
  {
   "cell_type": "code",
   "execution_count": 4,
   "metadata": {},
   "outputs": [],
   "source": [
    "import json\n",
    "import os\n",
    "import pathlib\n",
    "import time\n",
    "\n",
    "import requests\n",
    "from requests.auth import HTTPBasicAuth\n",
    "\n",
    "import boto3\n",
    "from botocore.exceptions import ClientError\n",
    "\n",
    "import datetime as dt\n",
    "import logging"
   ]
  },
  {
   "cell_type": "code",
   "execution_count": 6,
   "metadata": {},
   "outputs": [],
   "source": [
    "# AWS account number.\n",
    "ACCOUNT_NUMBER = '853558080719'"
   ]
  },
  {
   "cell_type": "code",
   "execution_count": 6,
   "metadata": {},
   "outputs": [
    {
     "name": "stdout",
     "output_type": "stream",
     "text": [
      "date = Mar-18-2021\n"
     ]
    }
   ],
   "source": [
    "# today's date\n",
    "today = dt.date.today()\n",
    "date = today.strftime(\"%b-%d-%Y\")\n",
    "print(\"date =\", date)"
   ]
  },
  {
   "cell_type": "code",
   "execution_count": 23,
   "metadata": {},
   "outputs": [],
   "source": [
    "scene_ids= ['20181031_095925_103b', '20200804_100556_1005', '20200501_100804_103c', '20200501_100803_103c', '20200501_100802_103c', '20200501_100801_103c', '20180718_184124_1040', '20180718_184123_1040', '20180607_082852_1012', '20190418_074358_0f3c', '20190503_083458_1001', '20161008_153105_0e3a', '20161008_153104_0e3a', '20160928_153233_0e16', '20181023_155054_1004', '20181024_160202_0f3b', '20181024_160201_0f3b', '20181022_155353_100a', '20181012_155937_0f2d', '20181023_155747_0f34', '20181023_155746_0f34', '20181022_155658_101e', '20181022_155659_101e', '20170227_203601_0c46', '20170227_203600_1_0c46', '20170227_203307_0c37', '20170323_152750_0e20', '20170322_153132_0e0f', '20170326_153240_0e26', '20170326_153239_0e26', '20170326_153233_0e26', '20170326_153234_0e26', '20170326_154021_0e2f', '20170826_154047_100c', '20170826_154046_100c', '20170825_170438_0f2a', '20170927_154611_0e14', '20170927_154610_0e14', '20171007_161315_0c65', '20171007_161314_1_0c65', '20171015_153720_100c', '20180107_153415_1032', '20180224_153959_0f1b', '20180224_153958_0f1b', '20180224_162902_0f2b', '20180313_154300_1008', '20180313_154259_1008', '20180313_154301_1008', '20180313_154258_1008', '20180919_160750_1020', '20180919_155029_1044', '20181124_155716_1049', '20181124_155715_1049', '20181124_155714_1049', '20181124_155713_1049', '20181215_075902_103e', '20181215_075901_103e', '20181215_075900_103e', '20181215_075859_103e', '20181215_075858_103e', '20181215_075857_103e']"
   ]
  },
  {
   "cell_type": "code",
   "execution_count": 38,
   "metadata": {},
   "outputs": [
    {
     "data": {
      "text/plain": [
       "61"
      ]
     },
     "execution_count": 38,
     "metadata": {},
     "output_type": "execute_result"
    }
   ],
   "source": [
    "len(scene_ids)"
   ]
  },
  {
   "cell_type": "code",
   "execution_count": 37,
   "metadata": {},
   "outputs": [
    {
     "name": "stderr",
     "output_type": "stream",
     "text": [
      "DEBUG: 2021-03-17 14:26:48,856: Starting new HTTPS connection (1): api.planet.com:443\n",
      "DEBUG: 2021-03-17 14:26:51,199: https://api.planet.com:443 \"POST /compute/ops/orders/v2 HTTP/1.1\" 202 None\n",
      "DEBUG: 2021-03-17 14:26:51,209: Starting new HTTPS connection (1): api.planet.com:443\n"
     ]
    },
    {
     "name": "stdout",
     "output_type": "stream",
     "text": [
      "marine_litter_order_03172020 202\n"
     ]
    },
    {
     "name": "stderr",
     "output_type": "stream",
     "text": [
      "DEBUG: 2021-03-17 14:26:52,978: https://api.planet.com:443 \"POST /compute/ops/orders/v2 HTTP/1.1\" 202 None\n"
     ]
    },
    {
     "name": "stdout",
     "output_type": "stream",
     "text": [
      "marine_litter_order_03172020 202\n"
     ]
    }
   ],
   "source": [
    "import json\n",
    "import requests\n",
    "from requests.auth import HTTPBasicAuth\n",
    "ids = scene_ids\n",
    "\n",
    "order_dict = {\n",
    "  \"name\": f\"marine_litter_order_{date}\",\n",
    "  \"subscription_id\": 0,\n",
    "  \"products\": [\n",
    "  {\n",
    "      \"item_ids\": [],\n",
    "      \"item_type\": \"PSScene3Band\",\n",
    "      \"product_bundle\": \"visual\"\n",
    "  }\n",
    "  ],\n",
    "  \"delivery\": {\n",
    "      \"single_archive\": True,\n",
    "      \"archive_type\": \"zip\",\n",
    "      \"archive_filename\": f\"marine_litter_order_{date}\".zip\",\n",
    "      \"amazon_s3\": {\n",
    "           \"bucket\": \"marine-litter-observations\",\n",
    "           \"aws_region\": \"us-east-1\",\n",
    "           \"aws_access_key_id\": os.environ['AWS_ACCESS_KEY'],\n",
    "           \"aws_secret_access_key\": os.environ['AWS_SECRET_ACCESS_KEY'],\n",
    "           \"path_prefix\": \"\"\n",
    "        }\n",
    "      },\n",
    "  \"notifications\": {\n",
    "  \"email\": True\n",
    "  },\n",
    "  \"order_type\": \"full\"\n",
    "}\n",
    "\n",
    "\n",
    "url = 'https://api.planet.com/compute/ops/orders/v2'\n",
    "start_id = 0\n",
    "responses = []\n",
    "for end_id in range(0, len(ids), 50):\n",
    "  selected_ids = ids[start_id:len(ids)]\n",
    "  order_data = order_dict.copy()\n",
    "  _id = len(ids) / 100\n",
    "  order_data['name'] = order_data['name'].format(_id)\n",
    "  order_data['products'][0]['item_ids'] = selected_ids\n",
    "  order_data['delivery']['archive_filename'] = f\"{order_data['name']}.zip\"\n",
    "  response = requests.post(url, auth=HTTPBasicAuth('<email>', '<password>'), json=order_data)\n",
    "  responses.append(json.loads(response.content))\n",
    "  start_id = end_id\n",
    "  print(order_data['name'], response.status_code)"
   ]
  }
 ],
 "metadata": {
  "kernelspec": {
   "display_name": "planet",
   "language": "python",
   "name": "planet"
  },
  "language_info": {
   "codemirror_mode": {
    "name": "ipython",
    "version": 3
   },
   "file_extension": ".py",
   "mimetype": "text/x-python",
   "name": "python",
   "nbconvert_exporter": "python",
   "pygments_lexer": "ipython3",
   "version": "3.6.8"
  }
 },
 "nbformat": 4,
 "nbformat_minor": 2
}
